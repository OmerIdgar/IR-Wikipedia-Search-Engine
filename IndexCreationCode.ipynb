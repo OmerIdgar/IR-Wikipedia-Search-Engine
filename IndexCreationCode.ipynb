{
  "nbformat": 4,
  "nbformat_minor": 0,
  "metadata": {
    "colab": {
      "name": "ProjectCode.ipynb",
      "provenance": [],
      "collapsed_sections": []
    },
    "kernelspec": {
      "name": "python3",
      "display_name": "Python 3"
    },
    "language_info": {
      "name": "python"
    }
  },
  "cells": [
    {
      "cell_type": "markdown",
      "source": [
        "# Setup\n",
        "\n",
        "\n",
        "---\n",
        "\n"
      ],
      "metadata": {
        "id": "1B4LSmeiaiZ5"
      }
    },
    {
      "cell_type": "code",
      "execution_count": null,
      "metadata": {
        "colab": {
          "base_uri": "https://localhost:8080/"
        },
        "id": "c1YcmwmoX6Wn",
        "outputId": "dc7c24fa-11ac-41a0-d1db-4de830576a6f"
      },
      "outputs": [
        {
          "output_type": "stream",
          "name": "stdout",
          "text": [
            "[nltk_data] Downloading package stopwords to /root/nltk_data...\n",
            "[nltk_data]   Package stopwords is already up-to-date!\n"
          ]
        }
      ],
      "source": [
        "import sys\n",
        "from collections import Counter, OrderedDict\n",
        "import itertools\n",
        "from itertools import islice, count, groupby\n",
        "import pandas as pd\n",
        "import os\n",
        "import re\n",
        "from operator import itemgetter\n",
        "import nltk\n",
        "from nltk.stem.porter import *\n",
        "from nltk.corpus import stopwords\n",
        "from time import time\n",
        "from timeit import timeit\n",
        "from pathlib import Path\n",
        "import pickle\n",
        "import pandas as pd\n",
        "import numpy as np\n",
        "from google.cloud import storage\n",
        "import builtins\n",
        "import math\n",
        "from google.colab import drive\n",
        "\n",
        "import hashlib\n",
        "def _hash(s):\n",
        "    return hashlib.blake2b(bytes(s, encoding='utf8'), digest_size=5).hexdigest()\n",
        "\n",
        "nltk.download('stopwords')\n",
        "\n",
        "from inverted_index_gcp import *"
      ]
    },
    {
      "cell_type": "markdown",
      "source": [
        "# Installing, importing, and initializing PySpark\n",
        "\n",
        "---\n",
        "\n"
      ],
      "metadata": {
        "id": "tE8ERqFsaxE2"
      }
    },
    {
      "cell_type": "code",
      "source": [
        "%%capture\n",
        "!pip install -q pyspark\n",
        "!pip install -U -q PyDrive\n",
        "!apt-get update -qq\n",
        "!apt install openjdk-8-jdk-headless -qq\n",
        "import os\n",
        "os.environ[\"JAVA_HOME\"] = \"/usr/lib/jvm/java-8-openjdk-amd64\"\n",
        "spark_jars = '/usr/local/lib/python3.7/dist-packages/pyspark/jars'\n",
        "!wget -N -P $spark_jars"
      ],
      "metadata": {
        "id": "54LdfMEpYCb_"
      },
      "execution_count": null,
      "outputs": []
    },
    {
      "cell_type": "code",
      "source": [
        "import pyspark\n",
        "from pyspark.sql import *\n",
        "from pyspark.sql.functions import *\n",
        "from pyspark import SparkContext, SparkConf\n",
        "from pyspark.sql import SQLContext\n",
        "from pyspark.ml.feature import Tokenizer, RegexTokenizer"
      ],
      "metadata": {
        "id": "hGMcMoTHYeS0"
      },
      "execution_count": null,
      "outputs": []
    },
    {
      "cell_type": "code",
      "source": [
        "# Initializing spark context\n",
        "# create a spark context and session\n",
        "conf = SparkConf().set(\"spark.ui.port\", \"4050\")\n",
        "sc = pyspark.SparkContext(conf=conf)\n",
        "spark = SparkSession.builder.getOrCreate()\n",
        "spark"
      ],
      "metadata": {
        "colab": {
          "base_uri": "https://localhost:8080/",
          "height": 219
        },
        "id": "5EkcVKi9YiH4",
        "outputId": "c3026942-0c7a-4a37-c57c-55d43a1a49fe"
      },
      "execution_count": null,
      "outputs": [
        {
          "output_type": "execute_result",
          "data": {
            "text/html": [
              "\n",
              "            <div>\n",
              "                <p><b>SparkSession - in-memory</b></p>\n",
              "                \n",
              "        <div>\n",
              "            <p><b>SparkContext</b></p>\n",
              "\n",
              "            <p><a href=\"http://bec9425987e4:4050\">Spark UI</a></p>\n",
              "\n",
              "            <dl>\n",
              "              <dt>Version</dt>\n",
              "                <dd><code>v3.2.0</code></dd>\n",
              "              <dt>Master</dt>\n",
              "                <dd><code>local[*]</code></dd>\n",
              "              <dt>AppName</dt>\n",
              "                <dd><code>pyspark-shell</code></dd>\n",
              "            </dl>\n",
              "        </div>\n",
              "        \n",
              "            </div>\n",
              "        "
            ],
            "text/plain": [
              "<pyspark.sql.session.SparkSession at 0x7fb11cdad690>"
            ]
          },
          "metadata": {},
          "execution_count": 5
        }
      ]
    },
    {
      "cell_type": "markdown",
      "source": [
        "# Copy some wiki data\n",
        "\n",
        "---\n",
        "\n"
      ],
      "metadata": {
        "id": "3gCFhy9rb0H0"
      }
    },
    {
      "cell_type": "code",
      "source": [
        "# Authenticate your user\n",
        "# The authentication should be done with the email connected to your GCP account\n",
        "from google.colab import auth\n",
        "auth.authenticate_user()"
      ],
      "metadata": {
        "id": "A1U79rkUY-d_"
      },
      "execution_count": null,
      "outputs": []
    },
    {
      "cell_type": "code",
      "source": [
        "# Copy one wikidumps files \n",
        "import os\n",
        "from pathlib import Path\n",
        "from google.colab import auth\n",
        "\n",
        "project_id = 'core-period-321814'\n",
        "!gcloud config set project {project_id}\n",
        "\n",
        "data_bucket_name = 'wikidata_preprocessed'\n",
        "try:\n",
        "    if os.environ[\"wikidata_preprocessed\"] is not None:\n",
        "        pass  \n",
        "except:\n",
        "      !mkdir wikidumps\n",
        "      !gsutil cp gs://{data_bucket_name}/multistream1_preprocessed.parquet \"wikidumps/\" "
      ],
      "metadata": {
        "colab": {
          "base_uri": "https://localhost:8080/"
        },
        "id": "fSS_j1fjZGDi",
        "outputId": "471b48ac-99ec-4fd2-9e32-ad78ba5a74b4"
      },
      "execution_count": null,
      "outputs": [
        {
          "output_type": "stream",
          "name": "stdout",
          "text": [
            "Updated property [core/project].\n",
            "\u001b[1;33mWARNING:\u001b[0m You do not appear to have access to project [core-period-321814] or it does not exist.\n",
            "\n",
            "\n",
            "To take a quick anonymous survey, run:\n",
            "  $ gcloud survey\n",
            "\n",
            "Copying gs://wikidata_preprocessed/multistream1_preprocessed.parquet...\n",
            "/ [1 files][316.7 MiB/316.7 MiB]                                                \n",
            "Operation completed over 1 objects/316.7 MiB.                                    \n"
          ]
        }
      ]
    },
    {
      "cell_type": "code",
      "source": [
        "!mkdir title_bins\n",
        "!mkdir body_bins\n",
        "!mkdir anchor_bins"
      ],
      "metadata": {
        "id": "euazpSXL3zRX"
      },
      "execution_count": null,
      "outputs": []
    },
    {
      "cell_type": "markdown",
      "source": [
        "# Processing wikipedia\n",
        "\n",
        "---\n",
        "\n"
      ],
      "metadata": {
        "id": "9s3PTh8rb1z7"
      }
    },
    {
      "cell_type": "code",
      "source": [
        "from pathlib import Path \n",
        "import os\n",
        "\n",
        "try:\n",
        "    if os.environ[\"wikidata_preprocessed\"] is not None:\n",
        "      path = os.environ[\"wikidata_preprocessed\"]+\"/wikidumps/*\"\n",
        "except:\n",
        "      path = \"wikidumps/*\"\n",
        "\n",
        "parquetFile = spark.read.parquet(path)\n",
        "parquetFile.show()"
      ],
      "metadata": {
        "colab": {
          "base_uri": "https://localhost:8080/"
        },
        "id": "PbEZTYDiZIkf",
        "outputId": "a4648bef-19ff-4321-f186-2a10abf7415f"
      },
      "execution_count": null,
      "outputs": [
        {
          "output_type": "stream",
          "name": "stdout",
          "text": [
            "+---+--------------------+--------------------+--------------------+\n",
            "| id|               title|                text|         anchor_text|\n",
            "+---+--------------------+--------------------+--------------------+\n",
            "| 12|           Anarchism|'''Anarchism''' i...|[{23040, politica...|\n",
            "| 25|              Autism|'''Autism''' is a...|[{492271, Clinica...|\n",
            "| 39|              Albedo|thumb|upright=1.3...|[{679294, diffuse...|\n",
            "|290|                   A|'''A''', or '''a'...|[{290, See below}...|\n",
            "|303|             Alabama|'''Alabama''' () ...|[{351590, Yellowh...|\n",
            "|305|            Achilles|thumb|260px|Ancie...|[{1076007, potter...|\n",
            "|307|     Abraham Lincoln|'''Abraham Lincol...|[{1827174, Alexan...|\n",
            "|308|           Aristotle|'''Aristotle''' (...|[{1389981, bust},...|\n",
            "|309|An American in Paris|'''''An American ...|[{13066, George G...|\n",
            "|316|Academy Award for...|The '''Academy Aw...|[{39842, Academy ...|\n",
            "|324|      Academy Awards|The '''Academy Aw...|[{649481, film in...|\n",
            "|330|             Actrius|'''''Actresses'''...|[{5282, Catalan},...|\n",
            "|332|     Animalia (book)|'''''Animalia''''...|[{2511084, Graeme...|\n",
            "|334|International Ato...|'''International ...|[{25453985, atomi...|\n",
            "|336|            Altruism|thumb|Giving alms...|[{657573, alms}, ...|\n",
            "|339|            Ayn Rand|'''Alice O'Connor...|[{24320051, St. P...|\n",
            "|340|        Alain Connes|'''Alain Connes''...|[{1201522, Dragui...|\n",
            "|344|          Allan Dwan|'''Allan Dwan''' ...|[{64646, Toronto}...|\n",
            "|358|             Algeria|'''Algeria''', of...|[{803, Arabic}, {...|\n",
            "|359|List of Atlas Shr...|This is a list of...|[{339, Ayn Rand},...|\n",
            "+---+--------------------+--------------------+--------------------+\n",
            "only showing top 20 rows\n",
            "\n"
          ]
        }
      ]
    },
    {
      "cell_type": "markdown",
      "source": [
        "# Extract the **title**, **body** and **anchor text**\n",
        "\n",
        "---\n",
        "\n"
      ],
      "metadata": {
        "id": "1gvWI4cJcScz"
      }
    },
    {
      "cell_type": "code",
      "source": [
        "doc_title_pairs = parquetFile.limit(1000).select(\"id\", \"title\").rdd\n",
        "doc_body_pairs = parquetFile.limit(1000).select(\"id\", \"text\").rdd\n",
        "doc_anchor_pairs = parquetFile.limit(1000).select(\"id\", \"anchor_text\").rdd"
      ],
      "metadata": {
        "id": "d0m9_wFlcSGf"
      },
      "execution_count": null,
      "outputs": []
    },
    {
      "cell_type": "markdown",
      "source": [
        "# Helper functions\n",
        "\n",
        "---\n",
        "\n",
        "---\n",
        "\n",
        "\n",
        "\n"
      ],
      "metadata": {
        "id": "7hl1eeabdcoQ"
      }
    },
    {
      "cell_type": "markdown",
      "source": [
        "### *Tokenization*"
      ],
      "metadata": {
        "id": "N7zZfshVtobj"
      }
    },
    {
      "cell_type": "code",
      "source": [
        "english_stopwords = frozenset(stopwords.words('english'))\n",
        "corpus_stopwords = [\"category\", \"references\", \"also\", \"external\", \"links\", \n",
        "                    \"may\", \"first\", \"see\", \"history\", \"people\", \"one\", \"two\", \n",
        "                    \"part\", \"thumb\", \"including\", \"second\", \"following\", \n",
        "                    \"many\", \"however\", \"would\", \"became\"]\n",
        "RE_WORD = re.compile(r\"\"\"[\\#\\@\\w](['\\-]?\\w){2,24}\"\"\", re.UNICODE)\n",
        "\n",
        "all_stopwords = english_stopwords.union(corpus_stopwords)\n",
        "\n",
        "def tokenize(text):\n",
        "    \"\"\"\n",
        "    This function aims in tokenize a text into a list of tokens. Moreover, it filter stopwords.\n",
        "    \n",
        "    Parameters:\n",
        "    -----------\n",
        "    text: string , represting the text to tokenize.    \n",
        "    \n",
        "    Returns:\n",
        "    -----------\n",
        "    list of tokens (e.g., list of tokens).\n",
        "    \"\"\"\n",
        "    list_of_tokens =  [token.group() for token in RE_WORD.finditer(text.lower()) if token.group() not in all_stopwords]    \n",
        "    return list_of_tokens"
      ],
      "metadata": {
        "id": "tGRx6vV1toLI"
      },
      "execution_count": null,
      "outputs": []
    },
    {
      "cell_type": "markdown",
      "source": [
        "### *word_count*"
      ],
      "metadata": {
        "id": "lvAh1JUPdj82"
      }
    },
    {
      "cell_type": "code",
      "source": [
        "def word_count(id, text):\n",
        "    ''' Count the frequency of each word in `text` (tf) that is not included in \n",
        "    `all_stopwords` and return entries that will go into our posting lists. \n",
        "    Parameters:\n",
        "    -----------\n",
        "    id: int\n",
        "        Document id\n",
        "    text: str\n",
        "        Text of one document\n",
        "    Returns:\n",
        "    --------\n",
        "    List of tuples\n",
        "        A list of (token, (doc_id, tf)) pairs \n",
        "        for example: [(\"Anarchism\", (12, 5)), ...]\n",
        "    '''\n",
        "    tokenized = tokenize(text)\n",
        "    word_tf = Counter(tokenized)\n",
        "    result = []\n",
        "    for word, tf in word_tf.items():\n",
        "        result.append((word, (id, tf)))\n",
        "    return result"
      ],
      "metadata": {
        "id": "Mxaz4MnFcubF"
      },
      "execution_count": null,
      "outputs": []
    },
    {
      "cell_type": "markdown",
      "source": [
        "### *doc_len*"
      ],
      "metadata": {
        "id": "LTIp4XEYsba9"
      }
    },
    {
      "cell_type": "code",
      "source": [
        "def doc_len(id, text):\n",
        "    ''' Calculate the length of the text\n",
        "    Parameters:\n",
        "    -----------\n",
        "    id: int\n",
        "        Document id\n",
        "    text: str\n",
        "        Text of one document\n",
        "    Returns:\n",
        "    --------\n",
        "    A dict of (doc_id, doc_len) pairs \n",
        "    for example: {12:5, ...}\n",
        "    '''\n",
        "    tokenized = tokenize(text)\n",
        "    result = []\n",
        "    return [(id, len(tokenized))]"
      ],
      "metadata": {
        "id": "dks3J8RzsZJl"
      },
      "execution_count": null,
      "outputs": []
    },
    {
      "cell_type": "markdown",
      "source": [
        "### *reduce_word_counts*"
      ],
      "metadata": {
        "id": "-eCUBwh9d1PQ"
      }
    },
    {
      "cell_type": "code",
      "source": [
        "def reduce_word_counts(unsorted_pl):\n",
        "    ''' Returns a sorted posting list by wiki_id.\n",
        "    Parameters:\n",
        "    -----------\n",
        "    unsorted_pl: list of tuples\n",
        "        A list of (wiki_id, tf) tuples \n",
        "    Returns:\n",
        "    --------\n",
        "    list of tuples\n",
        "        A sorted posting list.\n",
        "    '''\n",
        "    return sorted(unsorted_pl, key=lambda item: item[0])"
      ],
      "metadata": {
        "id": "T3DsandUd_wl"
      },
      "execution_count": null,
      "outputs": []
    },
    {
      "cell_type": "markdown",
      "source": [
        "### *calculate_df*"
      ],
      "metadata": {
        "id": "ezgL08oieHEO"
      }
    },
    {
      "cell_type": "code",
      "source": [
        "def calculate_df(postings):\n",
        "    ''' Takes a posting list RDD and calculate the df for each token.\n",
        "    Parameters:\n",
        "    -----------\n",
        "    postings: RDD\n",
        "        An RDD where each element is a (token, posting_list) pair.\n",
        "    Returns:\n",
        "    --------\n",
        "    RDD\n",
        "        An RDD where each element is a (token, df) pair.\n",
        "    '''\n",
        "    return postings.map(lambda x: (x[0],len(x[1])))"
      ],
      "metadata": {
        "id": "CaCbIb6seGtB"
      },
      "execution_count": null,
      "outputs": []
    },
    {
      "cell_type": "markdown",
      "source": [
        "### *calculate_term_total*"
      ],
      "metadata": {
        "id": "HLJqpuNHnF2c"
      }
    },
    {
      "cell_type": "code",
      "source": [
        "def calculate_term_total(postings):\n",
        "    ''' Takes a posting list RDD and calculate the term total for each token.\n",
        "    Parameters:\n",
        "    -----------\n",
        "    postings: RDD\n",
        "        An RDD where each element is a (token, posting_list) pair.\n",
        "    Returns:\n",
        "    --------\n",
        "    RDD\n",
        "        An RDD where each element is a (token, term_total) pair.\n",
        "    '''\n",
        "\n",
        "    return postings.mapValues(lambda posting: builtins.sum([tf for doc_id, tf in posting]))"
      ],
      "metadata": {
        "id": "6LnJYTfonCMz"
      },
      "execution_count": null,
      "outputs": []
    },
    {
      "cell_type": "markdown",
      "source": [
        "### *Partitioning and writing the index*"
      ],
      "metadata": {
        "id": "APV87EWCeXBx"
      }
    },
    {
      "cell_type": "code",
      "source": [
        "NUM_BUCKETS = 124\n",
        "def token2bucket_id(token):\n",
        "  return int(_hash(token),16) % NUM_BUCKETS\n",
        "\n",
        "def partition_postings_and_write(postings, file_name):\n",
        "    ''' A function that partitions the posting lists into buckets, writes out \n",
        "    all posting lists in a bucket to disk, and returns the posting locations for \n",
        "    each bucket. Partitioning should be done through the use of `token2bucket` \n",
        "    above. Writing to disk should use the function  `write_a_posting_list`, a \n",
        "    static method implemented in inverted_index_colab.py under the InvertedIndex \n",
        "    class. \n",
        "    Parameters:\n",
        "    -----------\n",
        "    postings: RDD\n",
        "        An RDD where each item is a (w, posting_list) pair.\n",
        "    Returns:\n",
        "    --------\n",
        "    RDD\n",
        "        An RDD where each item is a posting locations dictionary for a bucket. The\n",
        "        posting locations maintain a list for each word of file locations and \n",
        "        offsets its posting list was written to. See `write_a_posting_list` for \n",
        "        more details.\n",
        "    '''\n",
        "    buckets = postings.map(lambda item: (token2bucket_id(item[0]), item)).groupByKey()\n",
        "    res = buckets.map(lambda item: InvertedIndex.write_a_posting_list(item, file_name))\n",
        "    return res"
      ],
      "metadata": {
        "id": "IIsDxZ5yeT8K"
      },
      "execution_count": null,
      "outputs": []
    },
    {
      "cell_type": "markdown",
      "source": [
        "# Create Indices\n",
        "\n",
        "---\n",
        "\n",
        "\n",
        "\n",
        "---\n",
        "\n"
      ],
      "metadata": {
        "id": "zvShSoS6fm47"
      }
    },
    {
      "cell_type": "markdown",
      "source": [
        "## Create **Title** Index\n",
        "\n",
        "---\n",
        "\n"
      ],
      "metadata": {
        "id": "GfZ_-m-Df2f0"
      }
    },
    {
      "cell_type": "code",
      "source": [
        "################## Initialize Index ####################\n",
        "title_index = InvertedIndex()\n",
        "\n",
        "################## Posting Locs ########################\n",
        "word_counts = doc_title_pairs.flatMap(lambda x: word_count(x[0], x[1])) # -> [(token, (doc_id, tf)), ]\n",
        "postings = word_counts.groupByKey().mapValues(reduce_word_counts)       # -> [(token, [(doc_id1, tf), (doc_id2, tf), ]), ]\n",
        "\n",
        "posting_locs_list = partition_postings_and_write(postings, 'title_bins').collect()\n",
        "\n",
        "super_posting_locs = defaultdict(list)\n",
        "for posting_loc in posting_locs_list:\n",
        "  for k, v in posting_loc.items():\n",
        "    super_posting_locs[k].extend(v)\n",
        "# --------------------------------------------\n",
        "title_index.posting_locs = super_posting_locs\n",
        "\n",
        "################## DF ##################################\n",
        "w2df = calculate_df(postings)\n",
        "\n",
        "w2df_dict = w2df.collectAsMap()                                         # -> [(token, df), ..]\n",
        "# --------------------------------------------\n",
        "title_index.df = w2df_dict\n",
        "\n",
        "################## Term Total ##########################\n",
        "w2tf = calculate_term_total(postings)\n",
        "\n",
        "w2tf_dict = dict(w2tf.collect())                                         # -> [(token, tf), ..]\n",
        "# --------------------------------------------\n",
        "title_index.term_total = w2tf_dict\n",
        "\n",
        "################### Write ##############################\n",
        "title_index.write_index('.', 'title_index')"
      ],
      "metadata": {
        "id": "dJyJQbabnyeN"
      },
      "execution_count": null,
      "outputs": []
    },
    {
      "cell_type": "markdown",
      "source": [
        "## Create **Body** Index\n",
        "\n",
        "---\n",
        "\n"
      ],
      "metadata": {
        "id": "LrlUODYHfTrR"
      }
    },
    {
      "cell_type": "code",
      "source": [
        "################## Initialize Index ####################\n",
        "body_index = InvertedIndex()\n",
        "\n",
        "################## Posting Locs ########################\n",
        "word_counts = doc_body_pairs.flatMap(lambda x: word_count(x[0], x[1]))  # -> [(token, (doc_id, tf)), ]\n",
        "postings = word_counts.groupByKey().mapValues(reduce_word_counts)       # -> [(token, [(doc_id1, tf), (doc_id2, tf), ]), ]\n",
        "\n",
        "postings_filtered = postings.filter(lambda x: len(x[1]) > 50)           # -> [(token, [(doc_id1, tf), (doc_id2, tf), .. , (doc_id10, tf)]), ]\n",
        "\n",
        "posting_locs_list = partition_postings_and_write(postings_filtered, 'body_bins').collect()\n",
        "\n",
        "super_posting_locs = defaultdict(list)\n",
        "for posting_loc in posting_locs_list:\n",
        "  for k, v in posting_loc.items():\n",
        "    super_posting_locs[k].extend(v)\n",
        "# --------------------------------------------\n",
        "body_index.posting_locs = super_posting_locs\n",
        "\n",
        "################## DF ##################################\n",
        "w2df = calculate_df(postings_filtered)\n",
        "\n",
        "w2df_dict = w2df.collectAsMap()                                         # -> [(token, df), ..]\n",
        "# --------------------------------------------\n",
        "body_index.df = w2df_dict\n",
        "\n",
        "################## Term Total ##########################\n",
        "w2tf = calculate_term_total(postings_filtered)\n",
        "\n",
        "w2tf_dict = dict(w2tf.collect())                                        # -> [(token, tf), ..]\n",
        "# --------------------------------------------\n",
        "body_index.term_total = w2tf_dict\n",
        "\n",
        "################## DL ##################################\n",
        "doc2len = doc_body_pairs.flatMap(lambda x: doc_len(x[0], x[1]))         # -> [(doc1, 12), (doc2, 34)]\n",
        "body_index.DL = doc2len.collectAsMap()\n",
        "\n",
        "################### Write ##############################\n",
        "body_index.write_index('.', 'body_index')"
      ],
      "metadata": {
        "id": "r0jDxoLFeGop"
      },
      "execution_count": null,
      "outputs": []
    },
    {
      "cell_type": "markdown",
      "source": [
        "## Create **Anchor Text** Index\n",
        "\n",
        "---"
      ],
      "metadata": {
        "id": "Q5psZNEMgePj"
      }
    },
    {
      "cell_type": "code",
      "source": [
        "################## Initialize Index ####################\n",
        "anchor_index = InvertedIndex()\n",
        "\n",
        "################## Posting Locs ########################\n",
        "id2anchor = doc_anchor_pairs.flatMap(lambda x: x[1])\n",
        "id2text = id2anchor.distinct().groupByKey().mapValues(lambda x: \" \".join(x))\n",
        "\n",
        "word_counts = id2text.flatMap(lambda x: word_count(x[0], x[1]))          # -> [(token, (doc_id, tf)), ]\n",
        "postings = word_counts.groupByKey().mapValues(reduce_word_counts)        # -> [(token, [(doc_id1, tf), (doc_id2, tf), ]), ]\n",
        "\n",
        "posting_locs_list = partition_postings_and_write(postings, 'anchor_bins').collect()\n",
        "\n",
        "super_posting_locs = defaultdict(list)\n",
        "for posting_loc in posting_locs_list:\n",
        "  for k, v in posting_loc.items():\n",
        "    super_posting_locs[k].extend(v)\n",
        "# --------------------------------------------\n",
        "anchor_index.posting_locs = super_posting_locs\n",
        "\n",
        "################## DF ##################################\n",
        "w2df = calculate_df(postings)\n",
        "\n",
        "w2df_dict = w2df.collectAsMap()                                          # -> [(token, df), ..]\n",
        "# --------------------------------------------\n",
        "anchor_index.df = w2df_dict\n",
        "\n",
        "################## Term Total ##########################\n",
        "w2tf = calculate_term_total(postings)\n",
        "\n",
        "w2tf_dict = dict(w2tf.collect())                                         # -> [(token, tf), ..]\n",
        "# --------------------------------------------\n",
        "anchor_index.term_total = w2tf_dict\n",
        "\n",
        "################### Write ##############################\n",
        "anchor_index.write_index('.', 'anchor_index')"
      ],
      "metadata": {
        "id": "Nu9mjggbTf7t"
      },
      "execution_count": null,
      "outputs": []
    },
    {
      "cell_type": "markdown",
      "source": [
        "# Read Indices\n",
        "\n",
        "---\n",
        "\n",
        "---\n",
        "\n",
        "\n",
        "\n"
      ],
      "metadata": {
        "id": "n92FAIeM-lw5"
      }
    },
    {
      "cell_type": "code",
      "source": [
        "TUPLE_SIZE = 6       \n",
        "TF_MASK = 2 ** 16 - 1 # Masking the 16 low bits of an integer\n",
        "from contextlib import closing\n",
        "\n",
        "def read_posting_list(inverted, w):\n",
        "    with closing(MultiFileReader()) as reader:\n",
        "        locs = inverted.posting_locs[w]\n",
        "        b = reader.read(locs, inverted.df[w] * TUPLE_SIZE)\n",
        "        posting_list = []\n",
        "        for i in range(inverted.df[w]):\n",
        "            doc_id = int.from_bytes(b[i*TUPLE_SIZE:i*TUPLE_SIZE+4], 'big')\n",
        "            tf = int.from_bytes(b[i*TUPLE_SIZE+4:(i+1)*TUPLE_SIZE], 'big')\n",
        "            posting_list.append((doc_id, tf))\n",
        "        return posting_list"
      ],
      "metadata": {
        "id": "MIbN0JDmSmnf"
      },
      "execution_count": null,
      "outputs": []
    },
    {
      "cell_type": "code",
      "source": [
        "def get_posting_gen(index):\n",
        "    \"\"\"\n",
        "    This function returning the generator working with posting list.\n",
        "    \n",
        "    Parameters:\n",
        "    ----------\n",
        "    index: inverted index    \n",
        "    \"\"\"\n",
        "    words, pls = zip(*index.posting_lists_iter())\n",
        "    return words, pls"
      ],
      "metadata": {
        "id": "lNwhz6v1UO32"
      },
      "execution_count": null,
      "outputs": []
    }
  ]
}
